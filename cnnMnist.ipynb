{
 "cells": [
  {
   "cell_type": "code",
   "execution_count": 38,
   "metadata": {},
   "outputs": [],
   "source": [
    "import torch\n",
    "import torch.nn as nn\n",
    "import torch.nn.functional as F          # adds some efficiency\n",
    "from torch.utils.data import DataLoader  # lets us load data in batches\n",
    "from torchvision import datasets, transforms\n",
    "from torchvision.utils import make_grid \n",
    "\n",
    "import numpy as np\n",
    "import pandas as pd\n",
    "from sklearn.metrics import confusion_matrix  # for evaluating results\n",
    "import matplotlib.pyplot as plt\n"
   ]
  },
  {
   "cell_type": "code",
   "execution_count": 39,
   "metadata": {},
   "outputs": [],
   "source": [
    "transform= transforms.ToTensor()\n",
    "train_data= datasets.MNIST(root='../Data',train=True,download= True,transform=transform)"
   ]
  },
  {
   "cell_type": "code",
   "execution_count": 40,
   "metadata": {},
   "outputs": [],
   "source": [
    "test_data= datasets.MNIST(root='../Data',train=True,download= True,transform=transform)"
   ]
  },
  {
   "cell_type": "code",
   "execution_count": 41,
   "metadata": {},
   "outputs": [
    {
     "data": {
      "text/plain": [
       "Dataset MNIST\n",
       "    Number of datapoints: 60000\n",
       "    Split: train\n",
       "    Root Location: ../Data\n",
       "    Transforms (if any): ToTensor()\n",
       "    Target Transforms (if any): None"
      ]
     },
     "execution_count": 41,
     "metadata": {},
     "output_type": "execute_result"
    }
   ],
   "source": [
    "train_data"
   ]
  },
  {
   "cell_type": "code",
   "execution_count": 42,
   "metadata": {},
   "outputs": [
    {
     "data": {
      "text/plain": [
       "Dataset MNIST\n",
       "    Number of datapoints: 60000\n",
       "    Split: train\n",
       "    Root Location: ../Data\n",
       "    Transforms (if any): ToTensor()\n",
       "    Target Transforms (if any): None"
      ]
     },
     "execution_count": 42,
     "metadata": {},
     "output_type": "execute_result"
    }
   ],
   "source": [
    "test_data\n"
   ]
  },
  {
   "cell_type": "markdown",
   "metadata": {},
   "source": [
    "# deciding Batch sizes"
   ]
  },
  {
   "cell_type": "code",
   "execution_count": 43,
   "metadata": {},
   "outputs": [],
   "source": [
    "trainloader= DataLoader(train_data,batch_size=10,shuffle=True)\n",
    "testloader=DataLoader(test_data,batch_size=10,shuffle=True)"
   ]
  },
  {
   "cell_type": "markdown",
   "metadata": {},
   "source": [
    "# breaking down cnn model(just for understanding)"
   ]
  },
  {
   "cell_type": "code",
   "execution_count": 44,
   "metadata": {},
   "outputs": [],
   "source": [
    "conv1= nn.Conv2d(1,6,3,1)   #1 input since grayscale, 6 outputs for feature xtraction or 6 filters , 3 for 3*3 filter, 1 Stride\n",
    "#--->6 filters-->pooling--->conv2\n",
    "\n",
    "conv2= nn.Conv2d(6,16,3,1) #6 inputs from conv1, 16 filters ,3*3, 1 stride"
   ]
  },
  {
   "cell_type": "markdown",
   "metadata": {},
   "source": [
    "# grabbing the first mnist record"
   ]
  },
  {
   "cell_type": "code",
   "execution_count": 45,
   "metadata": {},
   "outputs": [],
   "source": [
    "for i,(X_train,y_train) in enumerate(train_data):\n",
    "    break"
   ]
  },
  {
   "cell_type": "code",
   "execution_count": 46,
   "metadata": {},
   "outputs": [],
   "source": [
    "x= X_train.view(1,1,28,28)  #--> 4d batch(batch of 1 image)"
   ]
  },
  {
   "cell_type": "code",
   "execution_count": 47,
   "metadata": {},
   "outputs": [
    {
     "data": {
      "text/plain": [
       "torch.Size([1, 6, 26, 26])"
      ]
     },
     "execution_count": 47,
     "metadata": {},
     "output_type": "execute_result"
    }
   ],
   "source": [
    "x=F.relu(conv1(x))\n",
    "x.shape"
   ]
  },
  {
   "cell_type": "markdown",
   "metadata": {},
   "source": [
    "# now into pooling layer\n"
   ]
  },
  {
   "cell_type": "code",
   "execution_count": 48,
   "metadata": {},
   "outputs": [
    {
     "data": {
      "text/plain": [
       "torch.Size([1, 6, 13, 13])"
      ]
     },
     "execution_count": 48,
     "metadata": {},
     "output_type": "execute_result"
    }
   ],
   "source": [
    "x=F.max_pool2d(x,2,2) \n",
    "x.shape"
   ]
  },
  {
   "cell_type": "markdown",
   "metadata": {},
   "source": [
    "# now into conv2"
   ]
  },
  {
   "cell_type": "code",
   "execution_count": 49,
   "metadata": {},
   "outputs": [
    {
     "data": {
      "text/plain": [
       "torch.Size([1, 16, 11, 11])"
      ]
     },
     "execution_count": 49,
     "metadata": {},
     "output_type": "execute_result"
    }
   ],
   "source": [
    "x= F.relu(conv2(x))\n",
    "x.shape"
   ]
  },
  {
   "cell_type": "code",
   "execution_count": 50,
   "metadata": {},
   "outputs": [
    {
     "data": {
      "text/plain": [
       "torch.Size([1, 16, 5, 5])"
      ]
     },
     "execution_count": 50,
     "metadata": {},
     "output_type": "execute_result"
    }
   ],
   "source": [
    "x= F.max_pool2d(x,2,2)\n",
    "x.shape"
   ]
  },
  {
   "cell_type": "markdown",
   "metadata": {},
   "source": [
    "# now flattening for a fc "
   ]
  },
  {
   "cell_type": "code",
   "execution_count": 51,
   "metadata": {},
   "outputs": [
    {
     "data": {
      "text/plain": [
       "torch.Size([1, 400])"
      ]
     },
     "execution_count": 51,
     "metadata": {},
     "output_type": "execute_result"
    }
   ],
   "source": [
    "x.view(-1,16*5*5).shape"
   ]
  },
  {
   "cell_type": "markdown",
   "metadata": {},
   "source": [
    "# actual implementation\n",
    "Now to define the class model"
   ]
  },
  {
   "cell_type": "code",
   "execution_count": 52,
   "metadata": {},
   "outputs": [],
   "source": [
    "class ConvNet(nn.Module):\n",
    "    def __init__(self):\n",
    "        super().__init__()\n",
    "        self.conv1= nn.Conv2d(1,6,3,1)\n",
    "        self.conv2= nn.Conv2d(6,16,3,1)\n",
    "        self.fc1= nn.Linear(5*5*16,120)\n",
    "        self.fc2= nn.Linear(120,84)\n",
    "        self.fc3= nn.Linear(84,10)\n",
    "    \n",
    "    def forward(self,X):\n",
    "        X=F.relu(self.conv1(X))\n",
    "        X=F.max_pool2d(X,2,2)\n",
    "        X=F.relu(self.conv2(X))\n",
    "        X=F.max_pool2d(X,2,2)\n",
    "        X=X.view(-1,16*5*5)\n",
    "        X= F.relu(self.fc1(X))\n",
    "        X= F.relu(self.fc2(X))\n",
    "        X= self.fc3(X)\n",
    "        return F.log_softmax(X,dim=1)"
   ]
  },
  {
   "cell_type": "code",
   "execution_count": 53,
   "metadata": {},
   "outputs": [
    {
     "data": {
      "text/plain": [
       "ConvNet(\n",
       "  (conv1): Conv2d(1, 6, kernel_size=(3, 3), stride=(1, 1))\n",
       "  (conv2): Conv2d(6, 16, kernel_size=(3, 3), stride=(1, 1))\n",
       "  (fc1): Linear(in_features=400, out_features=120, bias=True)\n",
       "  (fc2): Linear(in_features=120, out_features=84, bias=True)\n",
       "  (fc3): Linear(in_features=84, out_features=10, bias=True)\n",
       ")"
      ]
     },
     "execution_count": 53,
     "metadata": {},
     "output_type": "execute_result"
    }
   ],
   "source": [
    "torch.manual_seed(42)\n",
    "model= ConvNet()\n",
    "model"
   ]
  },
  {
   "cell_type": "markdown",
   "metadata": {},
   "source": [
    "# to check if parameters are reduced in cnn when compared to ann"
   ]
  },
  {
   "cell_type": "code",
   "execution_count": 54,
   "metadata": {},
   "outputs": [
    {
     "name": "stdout",
     "output_type": "stream",
     "text": [
      "54\n",
      "6\n",
      "864\n",
      "16\n",
      "48000\n",
      "120\n",
      "10080\n",
      "84\n",
      "840\n",
      "10\n"
     ]
    }
   ],
   "source": [
    "for param in model.parameters():\n",
    "    print(param.numel())\n",
    "#much less than ann's 100,000 params"
   ]
  },
  {
   "cell_type": "code",
   "execution_count": 55,
   "metadata": {},
   "outputs": [],
   "source": [
    "criterion= nn.CrossEntropyLoss()\n",
    "optimizer= torch.optim.Adam(model.parameters(),lr=0.001)"
   ]
  },
  {
   "cell_type": "code",
   "execution_count": 56,
   "metadata": {},
   "outputs": [
    {
     "name": "stdout",
     "output_type": "stream",
     "text": [
      "epoch 0 batch 600 loss 0.21157124638557434\n",
      "epoch 0 batch 1200 loss 0.579678475856781\n",
      "epoch 0 batch 1800 loss 0.05560563877224922\n",
      "epoch 0 batch 2400 loss 0.0341942124068737\n",
      "epoch 0 batch 3000 loss 0.010335903614759445\n",
      "epoch 0 batch 3600 loss 0.005747481714934111\n",
      "epoch 0 batch 4200 loss 0.053997285664081573\n",
      "epoch 0 batch 4800 loss 0.0029320730827748775\n",
      "epoch 0 batch 5400 loss 0.00047731475206092\n",
      "epoch 0 batch 6000 loss 0.005763170309364796\n",
      "epoch 1 batch 600 loss 0.14184677600860596\n",
      "epoch 1 batch 1200 loss 0.003080874215811491\n",
      "epoch 1 batch 1800 loss 0.02287227287888527\n",
      "epoch 1 batch 2400 loss 0.023083675652742386\n",
      "epoch 1 batch 3000 loss 0.006155517417937517\n",
      "epoch 1 batch 3600 loss 0.02127629891037941\n",
      "epoch 1 batch 4200 loss 0.00015270806034095585\n",
      "epoch 1 batch 4800 loss 0.0016358854481950402\n",
      "epoch 1 batch 5400 loss 0.47612157464027405\n",
      "epoch 1 batch 6000 loss 0.2730788290500641\n",
      "epoch 2 batch 600 loss 0.0048591666854918\n",
      "epoch 2 batch 1200 loss 0.0010632217163220048\n",
      "epoch 2 batch 1800 loss 0.012274622917175293\n",
      "epoch 2 batch 2400 loss 0.00519524747505784\n",
      "epoch 2 batch 3000 loss 0.006930316332727671\n",
      "epoch 2 batch 3600 loss 0.09090244024991989\n",
      "epoch 2 batch 4200 loss 2.869274430850055e-05\n",
      "epoch 2 batch 4800 loss 0.0016149294096976519\n",
      "epoch 2 batch 5400 loss 0.00015531045210082084\n",
      "epoch 2 batch 6000 loss 0.35770145058631897\n",
      "epoch 3 batch 600 loss 0.0008236098801717162\n",
      "epoch 3 batch 1200 loss 0.0011211633682250977\n",
      "epoch 3 batch 1800 loss 0.00015387529856525362\n",
      "epoch 3 batch 2400 loss 0.05414672568440437\n",
      "epoch 3 batch 3000 loss 0.034472573548555374\n",
      "epoch 3 batch 3600 loss 0.0009692962048575282\n",
      "epoch 3 batch 4200 loss 0.008393037132918835\n",
      "epoch 3 batch 4800 loss 0.034859899431467056\n",
      "epoch 3 batch 5400 loss 0.007655796594917774\n",
      "epoch 3 batch 6000 loss 8.731174602871761e-05\n",
      "epoch 4 batch 600 loss 3.2506828574696556e-05\n",
      "epoch 4 batch 1200 loss 0.00031965161906555295\n",
      "epoch 4 batch 1800 loss 4.2708412365755066e-05\n",
      "epoch 4 batch 2400 loss 0.0002381849626544863\n",
      "epoch 4 batch 3000 loss 0.00011136423563584685\n",
      "epoch 4 batch 3600 loss 0.0011815642938017845\n",
      "epoch 4 batch 4200 loss 0.016348697245121002\n",
      "epoch 4 batch 4800 loss 0.0007869048858992755\n",
      "epoch 4 batch 5400 loss 5.026401049690321e-05\n",
      "epoch 4 batch 6000 loss 0.0017272408585995436\n",
      "Train time 6.009951766331991 mins\n"
     ]
    }
   ],
   "source": [
    "import time\n",
    "starttime= time.time()\n",
    "\n",
    "#TRACKERS\n",
    "epochs=5\n",
    "trainlosses=[]\n",
    "testlosses=[]\n",
    "traincorrect=[]\n",
    "testcorrect=[]\n",
    "\n",
    "#FOR LOOP EPOCHS\n",
    "for i in range(epochs):\n",
    "    trncorr=0\n",
    "    tstcorr=0\n",
    "    #TRAIN\n",
    "    for b,(X_train,y_train) in enumerate(trainloader):\n",
    "        b+=1\n",
    "        \n",
    "        y_pred=model(X_train)  #no flattening!!\n",
    "        loss= criterion(y_pred,y_train)\n",
    "        predicted= torch.max(y_pred.data,1)[1]\n",
    "        batchcorr= (predicted==y_train).sum()\n",
    "        trncorr+=batchcorr\n",
    "        \n",
    "        optimizer.zero_grad()\n",
    "        loss.backward()\n",
    "        optimizer.step()\n",
    "        \n",
    "        if b%600 ==0:\n",
    "            print(f\"epoch {i} batch {b} loss {loss.item()}\")\n",
    "    trainlosses.append(loss)\n",
    "    traincorrect.append(trncorr)\n",
    "#TEST\n",
    "    with torch.no_grad():\n",
    "        for b,(X_test,y_test) in enumerate(testloader):\n",
    "            yval= model(X_test)\n",
    "            predicted=torch.max(yval.data,1)[1]\n",
    "            tstcorr+=(predicted==y_test).sum()\n",
    "    loss= criterion(yval,y_test)\n",
    "    testlosses.append(loss)\n",
    "    testcorrect.append(tstcorr)\n",
    "         \n",
    "\n",
    "currenttime= time.time()\n",
    "total =currenttime- starttime\n",
    "print(f\"Train time {total/60} mins\")"
   ]
  },
  {
   "cell_type": "markdown",
   "metadata": {},
   "source": [
    "# evaluating model"
   ]
  },
  {
   "cell_type": "code",
   "execution_count": 58,
   "metadata": {},
   "outputs": [
    {
     "data": {
      "text/plain": [
       "<matplotlib.legend.Legend at 0x20965985be0>"
      ]
     },
     "execution_count": 58,
     "metadata": {},
     "output_type": "execute_result"
    },
    {
     "data": {
      "image/png": "[encoded data removed]",
      "text/plain": [
       "<Figure size 432x288 with 1 Axes>"
      ]
     },
     "metadata": {
      "needs_background": "light"
     },
     "output_type": "display_data"
    }
   ],
   "source": [
    "plt.plot(trainlosses,label= 'trainloss')\n",
    "plt.plot(testlosses,label='validationloss')\n",
    "plt.legend()"
   ]
  },
  {
   "cell_type": "code",
   "execution_count": 60,
   "metadata": {},
   "outputs": [
    {
     "name": "stdout",
     "output_type": "stream",
     "text": [
      "Test accuracy: 59592/60000 =  99.320%\n"
     ]
    }
   ],
   "source": [
    "#Evaluate Test Data\n",
    "# Extract the data all at once, not in batches\n",
    "test_load_all = DataLoader(test_data, batch_size=10000, shuffle=False)\n",
    "with torch.no_grad():\n",
    "    correct = 0\n",
    "    for X_test, y_test in test_load_all:\n",
    "        y_val = model(X_test)  # we don't flatten the data this time\n",
    "        predicted = torch.max(y_val,1)[1]\n",
    "        correct += (predicted == y_test).sum()\n",
    "print(f'Test accuracy: {correct.item()}/{len(test_data)} = {correct.item()*100/(len(test_data)):7.3f}%')"
   ]
  },
  {
   "cell_type": "code",
   "execution_count": 62,
   "metadata": {},
   "outputs": [
    {
     "name": "stdout",
     "output_type": "stream",
     "text": [
      "[[   0    1    2    3    4    5    6    7    8    9]]\n",
      "\n",
      "[[ 988    0    0    0    0    0    0    0    0    1]\n",
      " [   0 1060    1    0    1    0    0    0    0    0]\n",
      " [   1    0  984    1    0    0    0    0    0    0]\n",
      " [   0    0    0 1020    0    0    0    0    1    0]\n",
      " [   0    0    1    0  975    0    0    0    0    5]\n",
      " [   1    0    0    4    0  912    0    0    1    2]\n",
      " [   0    2    0    0    1    1  967    0    1    0]\n",
      " [   1    2    3    2    1    0    0 1090    3    2]\n",
      " [   0    0    1    2    0    2    0    0  995    0]\n",
      " [   0    0    0    1    5    0    0    0    8  951]]\n"
     ]
    }
   ],
   "source": [
    "#Display the confusion matrix\n",
    "# print a row of values for reference\n",
    "np.set_printoptions(formatter=dict(int=lambda x: f'{x:4}'))\n",
    "print(np.arange(10).reshape(1,10))\n",
    "print()\n",
    "\n",
    "# print the confusion matrix\n",
    "print(confusion_matrix(predicted.view(-1), y_test.view(-1)))"
   ]
  }
 ],
 "metadata": {
  "kernelspec": {
   "display_name": "Python 3",
   "language": "python",
   "name": "python3"
  },
  "language_info": {
   "codemirror_mode": {
    "name": "ipython",
    "version": 3
   },
   "file_extension": ".py",
   "mimetype": "text/x-python",
   "name": "python",
   "nbconvert_exporter": "python",
   "pygments_lexer": "ipython3",
   "version": "3.7.3"
  }
 },
 "nbformat": 4,
 "nbformat_minor": 4
}
