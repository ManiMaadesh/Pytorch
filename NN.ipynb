{
 "cells": [
  {
   "cell_type": "markdown",
   "metadata": {},
   "source": [
    "# Defining the model"
   ]
  },
  {
   "cell_type": "code",
   "execution_count": 64,
   "metadata": {},
   "outputs": [],
   "source": [
    "import torch\n",
    "import torch.nn as nn\n",
    "import torch.nn.functional as f"
   ]
  },
  {
   "cell_type": "code",
   "execution_count": 65,
   "metadata": {},
   "outputs": [],
   "source": [
    "class Model(nn.Module):\n",
    "    def __init__(self,in_features=4,h1=8,h2=9,out_features=3):\n",
    "        #how many layers?\n",
    "        \n",
    "        super().__init__()\n",
    "        self.fullycon1= nn.Linear(in_features,h1)\n",
    "        self.fullycon2= nn.Linear(h1,h2)\n",
    "        self.out= nn.Linear(h2,out_features)\n",
    "        #input( 4 feats)-> hidden1-> hidden2->output(3 classes)\n",
    "        \n",
    "    def forward(self,x):\n",
    "        a1= f.relu(self.fullycon1(x))\n",
    "        a2= f.relu(self.fullycon2(a1))\n",
    "        res= self.out(a2)\n",
    "        return res\n",
    "        "
   ]
  },
  {
   "cell_type": "code",
   "execution_count": 66,
   "metadata": {},
   "outputs": [],
   "source": [
    "torch.manual_seed(32)\n",
    "model= Model()"
   ]
  },
  {
   "cell_type": "markdown",
   "metadata": {},
   "source": [
    "# importing dataset and splitting\n"
   ]
  },
  {
   "cell_type": "code",
   "execution_count": 67,
   "metadata": {},
   "outputs": [],
   "source": [
    "import pandas as pd\n",
    "import matplotlib.pyplot as plt"
   ]
  },
  {
   "cell_type": "code",
   "execution_count": 68,
   "metadata": {},
   "outputs": [
    {
     "data": {
      "text/html": [
       "<div>\n",
       "<style scoped>\n",
       "    .dataframe tbody tr th:only-of-type {\n",
       "        vertical-align: middle;\n",
       "    }\n",
       "\n",
       "    .dataframe tbody tr th {\n",
       "        vertical-align: top;\n",
       "    }\n",
       "\n",
       "    .dataframe thead th {\n",
       "        text-align: right;\n",
       "    }\n",
       "</style>\n",
       "<table border=\"1\" class=\"dataframe\">\n",
       "  <thead>\n",
       "    <tr style=\"text-align: right;\">\n",
       "      <th></th>\n",
       "      <th>sepal length (cm)</th>\n",
       "      <th>sepal width (cm)</th>\n",
       "      <th>petal length (cm)</th>\n",
       "      <th>petal width (cm)</th>\n",
       "      <th>target</th>\n",
       "    </tr>\n",
       "  </thead>\n",
       "  <tbody>\n",
       "    <tr>\n",
       "      <th>0</th>\n",
       "      <td>5.1</td>\n",
       "      <td>3.5</td>\n",
       "      <td>1.4</td>\n",
       "      <td>0.2</td>\n",
       "      <td>0.0</td>\n",
       "    </tr>\n",
       "    <tr>\n",
       "      <th>1</th>\n",
       "      <td>4.9</td>\n",
       "      <td>3.0</td>\n",
       "      <td>1.4</td>\n",
       "      <td>0.2</td>\n",
       "      <td>0.0</td>\n",
       "    </tr>\n",
       "    <tr>\n",
       "      <th>2</th>\n",
       "      <td>4.7</td>\n",
       "      <td>3.2</td>\n",
       "      <td>1.3</td>\n",
       "      <td>0.2</td>\n",
       "      <td>0.0</td>\n",
       "    </tr>\n",
       "    <tr>\n",
       "      <th>3</th>\n",
       "      <td>4.6</td>\n",
       "      <td>3.1</td>\n",
       "      <td>1.5</td>\n",
       "      <td>0.2</td>\n",
       "      <td>0.0</td>\n",
       "    </tr>\n",
       "    <tr>\n",
       "      <th>4</th>\n",
       "      <td>5.0</td>\n",
       "      <td>3.6</td>\n",
       "      <td>1.4</td>\n",
       "      <td>0.2</td>\n",
       "      <td>0.0</td>\n",
       "    </tr>\n",
       "  </tbody>\n",
       "</table>\n",
       "</div>"
      ],
      "text/plain": [
       "   sepal length (cm)  sepal width (cm)  petal length (cm)  petal width (cm)  \\\n",
       "0                5.1               3.5                1.4               0.2   \n",
       "1                4.9               3.0                1.4               0.2   \n",
       "2                4.7               3.2                1.3               0.2   \n",
       "3                4.6               3.1                1.5               0.2   \n",
       "4                5.0               3.6                1.4               0.2   \n",
       "\n",
       "   target  \n",
       "0     0.0  \n",
       "1     0.0  \n",
       "2     0.0  \n",
       "3     0.0  \n",
       "4     0.0  "
      ]
     },
     "execution_count": 68,
     "metadata": {},
     "output_type": "execute_result"
    }
   ],
   "source": [
    "df= pd.read_csv('C:/Users/maade/Desktop/Pytorch/PYTORCH_NOTEBOOKS/Data/iris.csv')\n",
    "df.head()"
   ]
  },
  {
   "cell_type": "code",
   "execution_count": 69,
   "metadata": {},
   "outputs": [],
   "source": [
    "X= df.drop('target',axis=1)\n",
    "y= df['target']\n",
    "# converting to numpy arrs\n",
    "X=X.values\n",
    "y=y.values"
   ]
  },
  {
   "cell_type": "code",
   "execution_count": 70,
   "metadata": {},
   "outputs": [],
   "source": [
    "from sklearn.model_selection import train_test_split"
   ]
  },
  {
   "cell_type": "code",
   "execution_count": 71,
   "metadata": {},
   "outputs": [],
   "source": [
    "X_train,X_test,y_train,y_test= train_test_split(X,y,test_size=0.2, random_state=33)\n",
    "X_train=torch.FloatTensor(X_train)\n",
    "X_test=torch.FloatTensor(X_test)\n",
    "y_train=torch.LongTensor(y_train)\n",
    "y_test=torch.LongTensor(y_test)"
   ]
  },
  {
   "cell_type": "code",
   "execution_count": 72,
   "metadata": {},
   "outputs": [],
   "source": [
    "#encoding for target not needed for crossentropy \n",
    "criterion= nn.CrossEntropyLoss()\n",
    "optimizer=torch.optim.Adam(model.parameters(),lr=0.01)"
   ]
  },
  {
   "cell_type": "code",
   "execution_count": 73,
   "metadata": {},
   "outputs": [
    {
     "data": {
      "text/plain": [
       "<bound method Module.parameters of Model(\n",
       "  (fullycon1): Linear(in_features=4, out_features=8, bias=True)\n",
       "  (fullycon2): Linear(in_features=8, out_features=9, bias=True)\n",
       "  (out): Linear(in_features=9, out_features=3, bias=True)\n",
       ")>"
      ]
     },
     "execution_count": 73,
     "metadata": {},
     "output_type": "execute_result"
    }
   ],
   "source": [
    "model.parameters"
   ]
  },
  {
   "cell_type": "code",
   "execution_count": 74,
   "metadata": {},
   "outputs": [
    {
     "name": "stdout",
     "output_type": "stream",
     "text": [
      "Epoch 0 and loss is 1.1507115364074707\n",
      "Epoch 10 and loss is 0.9377316832542419\n",
      "Epoch 20 and loss is 0.7798274159431458\n",
      "Epoch 30 and loss is 0.6099672317504883\n",
      "Epoch 40 and loss is 0.4008353650569916\n",
      "Epoch 50 and loss is 0.25436991453170776\n",
      "Epoch 60 and loss is 0.15052446722984314\n",
      "Epoch 70 and loss is 0.10086154192686081\n",
      "Epoch 80 and loss is 0.08127661049365997\n",
      "Epoch 90 and loss is 0.07230935245752335\n"
     ]
    }
   ],
   "source": [
    "#epochs\n",
    "epochs=100\n",
    "losses=[]\n",
    "for i in range(epochs):\n",
    "    \n",
    "    #forward and get prediction\n",
    "    y_pred=model.forward(X_train)\n",
    "    \n",
    "    #calculate loss/error\n",
    "    loss= criterion(y_pred,y_train)\n",
    "    losses.append(loss)\n",
    "    \n",
    "    #printing out for every 10 recs\n",
    "    if i%10==0:\n",
    "        print(f'Epoch {i} and loss is {loss}')\n",
    "    \n",
    "    #backprop\n",
    "    optimizer.zero_grad()\n",
    "    loss.backward()\n",
    "    optimizer.step()"
   ]
  },
  {
   "cell_type": "code",
   "execution_count": 75,
   "metadata": {},
   "outputs": [
    {
     "data": {
      "text/plain": [
       "[<matplotlib.lines.Line2D at 0x1d1605c5860>]"
      ]
     },
     "execution_count": 75,
     "metadata": {},
     "output_type": "execute_result"
    },
    {
     "data": {
      "image/png": "[encoded data removed]",
      "text/plain": [
       "<Figure size 432x288 with 1 Axes>"
      ]
     },
     "metadata": {
      "needs_background": "light"
     },
     "output_type": "display_data"
    }
   ],
   "source": [
    "plt.plot(range(epochs),losses)"
   ]
  },
  {
   "cell_type": "markdown",
   "metadata": {},
   "source": [
    "# Validate on test set"
   ]
  },
  {
   "cell_type": "code",
   "execution_count": 77,
   "metadata": {},
   "outputs": [
    {
     "name": "stdout",
     "output_type": "stream",
     "text": [
      "tensor(0.0581)\n"
     ]
    }
   ],
   "source": [
    "with torch.no_grad():\n",
    "    y_eval= model.forward(X_test)\n",
    "    loss = criterion(y_eval,y_test)\n",
    "    print(loss)"
   ]
  },
  {
   "cell_type": "code",
   "execution_count": 81,
   "metadata": {},
   "outputs": [
    {
     "name": "stdout",
     "output_type": "stream",
     "text": [
      "1.) 1 1\n",
      "2.) 1 1\n",
      "3.) 0 0\n",
      "4.) 1 1\n",
      "5.) 2 2\n",
      "6.) 2 2\n",
      "7.) 0 0\n",
      "8.) 0 0\n",
      "9.) 2 2\n",
      "10.) 2 2\n",
      "11.) 2 2\n",
      "12.) 0 0\n",
      "13.) 2 2\n",
      "14.) 1 1\n",
      "15.) 2 2\n",
      "16.) 1 1\n",
      "17.) 2 2\n",
      "18.) 0 0\n",
      "19.) 1 1\n",
      "20.) 2 2\n",
      "21.) 0 0\n",
      "22.) 0 0\n",
      "23.) 2 2\n",
      "24.) 0 0\n",
      "25.) 2 2\n",
      "26.) 2 2\n",
      "27.) 1 1\n",
      "28.) 1 1\n",
      "29.) 2 2\n",
      "30.) 2 2\n",
      "30\n"
     ]
    }
   ],
   "source": [
    "correct=0\n",
    "with torch.no_grad():\n",
    "    for i,data in enumerate(X_test):\n",
    "        y_val= model.forward(data)\n",
    "        \n",
    "        print(f'{i+1}.) {str(y_val.argmax().item())} {y_test[i]}')\n",
    "        \n",
    "        if(y_val.argmax().item()== y_test[i]):\n",
    "            correct+=1\n",
    "print(correct)"
   ]
  },
  {
   "cell_type": "code",
   "execution_count": 82,
   "metadata": {},
   "outputs": [],
   "source": [
    "torch.save(model.state_dict(),'irismodel.pt')"
   ]
  },
  {
   "cell_type": "code",
   "execution_count": 84,
   "metadata": {},
   "outputs": [
    {
     "data": {
      "text/plain": [
       "Model(\n",
       "  (fullycon1): Linear(in_features=4, out_features=8, bias=True)\n",
       "  (fullycon2): Linear(in_features=8, out_features=9, bias=True)\n",
       "  (out): Linear(in_features=9, out_features=3, bias=True)\n",
       ")"
      ]
     },
     "execution_count": 84,
     "metadata": {},
     "output_type": "execute_result"
    }
   ],
   "source": [
    "new_model= Model()\n",
    "new_model.load_state_dict(torch.load('irismodel.pt'))\n",
    "new_model.eval()"
   ]
  },
  {
   "cell_type": "markdown",
   "metadata": {},
   "source": [
    "# to use model on an entirely new data point"
   ]
  },
  {
   "cell_type": "code",
   "execution_count": 86,
   "metadata": {},
   "outputs": [
    {
     "name": "stdout",
     "output_type": "stream",
     "text": [
      "tensor([  5.9520,   1.5591, -10.0041])\n",
      "tensor(0)\n"
     ]
    }
   ],
   "source": [
    "datapoint= torch.tensor([5.6,3.7,2.2,0.5])\n",
    "with torch.no_grad():\n",
    "    print(new_model(datapoint))\n",
    "    print(new_model(datapoint).argmax())\n",
    "    \n",
    "    "
   ]
  }
 ],
 "metadata": {
  "kernelspec": {
   "display_name": "Python 3",
   "language": "python",
   "name": "python3"
  },
  "language_info": {
   "codemirror_mode": {
    "name": "ipython",
    "version": 3
   },
   "file_extension": ".py",
   "mimetype": "text/x-python",
   "name": "python",
   "nbconvert_exporter": "python",
   "pygments_lexer": "ipython3",
   "version": "3.7.3"
  }
 },
 "nbformat": 4,
 "nbformat_minor": 4
}
